{
 "cells": [
  {
   "cell_type": "code",
   "execution_count": 1,
   "metadata": {},
   "outputs": [],
   "source": [
    "import pandas as pd\n",
    "uri = 'https://gist.githubusercontent.com/guilhermesilveira/4d1d4a16ccbf6ea4e0a64a38a24ec884/raw/afd05cb0c796d18f3f5a6537053ded308ba94bf7/car-prices.csv'\n",
    "data = pd.read_csv(uri)"
   ]
  },
  {
   "cell_type": "code",
   "execution_count": 2,
   "metadata": {},
   "outputs": [
    {
     "data": {
      "text/html": [
       "<div>\n",
       "<style scoped>\n",
       "    .dataframe tbody tr th:only-of-type {\n",
       "        vertical-align: middle;\n",
       "    }\n",
       "\n",
       "    .dataframe tbody tr th {\n",
       "        vertical-align: top;\n",
       "    }\n",
       "\n",
       "    .dataframe thead th {\n",
       "        text-align: right;\n",
       "    }\n",
       "</style>\n",
       "<table border=\"1\" class=\"dataframe\">\n",
       "  <thead>\n",
       "    <tr style=\"text-align: right;\">\n",
       "      <th></th>\n",
       "      <th>Unnamed: 0</th>\n",
       "      <th>mileage_per_year</th>\n",
       "      <th>model_year</th>\n",
       "      <th>price</th>\n",
       "      <th>sold</th>\n",
       "    </tr>\n",
       "  </thead>\n",
       "  <tbody>\n",
       "    <tr>\n",
       "      <th>0</th>\n",
       "      <td>0</td>\n",
       "      <td>21801</td>\n",
       "      <td>2000</td>\n",
       "      <td>30941.02</td>\n",
       "      <td>yes</td>\n",
       "    </tr>\n",
       "    <tr>\n",
       "      <th>1</th>\n",
       "      <td>1</td>\n",
       "      <td>7843</td>\n",
       "      <td>1998</td>\n",
       "      <td>40557.96</td>\n",
       "      <td>yes</td>\n",
       "    </tr>\n",
       "    <tr>\n",
       "      <th>2</th>\n",
       "      <td>2</td>\n",
       "      <td>7109</td>\n",
       "      <td>2006</td>\n",
       "      <td>89627.50</td>\n",
       "      <td>no</td>\n",
       "    </tr>\n",
       "    <tr>\n",
       "      <th>3</th>\n",
       "      <td>3</td>\n",
       "      <td>26823</td>\n",
       "      <td>2015</td>\n",
       "      <td>95276.14</td>\n",
       "      <td>no</td>\n",
       "    </tr>\n",
       "    <tr>\n",
       "      <th>4</th>\n",
       "      <td>4</td>\n",
       "      <td>7935</td>\n",
       "      <td>2014</td>\n",
       "      <td>117384.68</td>\n",
       "      <td>yes</td>\n",
       "    </tr>\n",
       "  </tbody>\n",
       "</table>\n",
       "</div>"
      ],
      "text/plain": [
       "   Unnamed: 0  mileage_per_year  model_year      price sold\n",
       "0           0             21801        2000   30941.02  yes\n",
       "1           1              7843        1998   40557.96  yes\n",
       "2           2              7109        2006   89627.50   no\n",
       "3           3             26823        2015   95276.14   no\n",
       "4           4              7935        2014  117384.68  yes"
      ]
     },
     "execution_count": 2,
     "metadata": {},
     "output_type": "execute_result"
    }
   ],
   "source": [
    "data.head()"
   ]
  },
  {
   "cell_type": "code",
   "execution_count": 3,
   "metadata": {},
   "outputs": [
    {
     "data": {
      "text/plain": [
       "2022"
      ]
     },
     "execution_count": 3,
     "metadata": {},
     "output_type": "execute_result"
    }
   ],
   "source": [
    "from datetime import date\n",
    "year_today = date.today().year\n",
    "year_today\n"
   ]
  },
  {
   "cell_type": "code",
   "execution_count": 4,
   "metadata": {},
   "outputs": [
    {
     "data": {
      "text/html": [
       "<div>\n",
       "<style scoped>\n",
       "    .dataframe tbody tr th:only-of-type {\n",
       "        vertical-align: middle;\n",
       "    }\n",
       "\n",
       "    .dataframe tbody tr th {\n",
       "        vertical-align: top;\n",
       "    }\n",
       "\n",
       "    .dataframe thead th {\n",
       "        text-align: right;\n",
       "    }\n",
       "</style>\n",
       "<table border=\"1\" class=\"dataframe\">\n",
       "  <thead>\n",
       "    <tr style=\"text-align: right;\">\n",
       "      <th></th>\n",
       "      <th>price</th>\n",
       "      <th>sold</th>\n",
       "      <th>model_years</th>\n",
       "      <th>km_per_year</th>\n",
       "    </tr>\n",
       "  </thead>\n",
       "  <tbody>\n",
       "    <tr>\n",
       "      <th>0</th>\n",
       "      <td>30941.02</td>\n",
       "      <td>yes</td>\n",
       "      <td>22</td>\n",
       "      <td>35085.22134</td>\n",
       "    </tr>\n",
       "    <tr>\n",
       "      <th>1</th>\n",
       "      <td>40557.96</td>\n",
       "      <td>yes</td>\n",
       "      <td>24</td>\n",
       "      <td>12622.05362</td>\n",
       "    </tr>\n",
       "    <tr>\n",
       "      <th>2</th>\n",
       "      <td>89627.50</td>\n",
       "      <td>no</td>\n",
       "      <td>16</td>\n",
       "      <td>11440.79806</td>\n",
       "    </tr>\n",
       "    <tr>\n",
       "      <th>3</th>\n",
       "      <td>95276.14</td>\n",
       "      <td>no</td>\n",
       "      <td>7</td>\n",
       "      <td>43167.32682</td>\n",
       "    </tr>\n",
       "    <tr>\n",
       "      <th>4</th>\n",
       "      <td>117384.68</td>\n",
       "      <td>yes</td>\n",
       "      <td>8</td>\n",
       "      <td>12770.11290</td>\n",
       "    </tr>\n",
       "  </tbody>\n",
       "</table>\n",
       "</div>"
      ],
      "text/plain": [
       "       price sold  model_years  km_per_year\n",
       "0   30941.02  yes           22  35085.22134\n",
       "1   40557.96  yes           24  12622.05362\n",
       "2   89627.50   no           16  11440.79806\n",
       "3   95276.14   no            7  43167.32682\n",
       "4  117384.68  yes            8  12770.11290"
      ]
     },
     "execution_count": 4,
     "metadata": {},
     "output_type": "execute_result"
    }
   ],
   "source": [
    "data[\"model_years\"] = year_today-data[\"model_year\"]\n",
    "data[\"km_per_year\"] = data[\"mileage_per_year\"]*1.60934\n",
    "data = data.drop(['Unnamed: 0', 'mileage_per_year','model_year'], axis=1)\n",
    "data.head()\n"
   ]
  },
  {
   "cell_type": "code",
   "execution_count": 5,
   "metadata": {},
   "outputs": [
    {
     "data": {
      "text/html": [
       "<div>\n",
       "<style scoped>\n",
       "    .dataframe tbody tr th:only-of-type {\n",
       "        vertical-align: middle;\n",
       "    }\n",
       "\n",
       "    .dataframe tbody tr th {\n",
       "        vertical-align: top;\n",
       "    }\n",
       "\n",
       "    .dataframe thead th {\n",
       "        text-align: right;\n",
       "    }\n",
       "</style>\n",
       "<table border=\"1\" class=\"dataframe\">\n",
       "  <thead>\n",
       "    <tr style=\"text-align: right;\">\n",
       "      <th></th>\n",
       "      <th>price</th>\n",
       "      <th>sold</th>\n",
       "      <th>model_years</th>\n",
       "      <th>km_per_year</th>\n",
       "    </tr>\n",
       "  </thead>\n",
       "  <tbody>\n",
       "    <tr>\n",
       "      <th>0</th>\n",
       "      <td>30941.02</td>\n",
       "      <td>1</td>\n",
       "      <td>22</td>\n",
       "      <td>35085.22134</td>\n",
       "    </tr>\n",
       "    <tr>\n",
       "      <th>1</th>\n",
       "      <td>40557.96</td>\n",
       "      <td>1</td>\n",
       "      <td>24</td>\n",
       "      <td>12622.05362</td>\n",
       "    </tr>\n",
       "    <tr>\n",
       "      <th>2</th>\n",
       "      <td>89627.50</td>\n",
       "      <td>0</td>\n",
       "      <td>16</td>\n",
       "      <td>11440.79806</td>\n",
       "    </tr>\n",
       "    <tr>\n",
       "      <th>3</th>\n",
       "      <td>95276.14</td>\n",
       "      <td>0</td>\n",
       "      <td>7</td>\n",
       "      <td>43167.32682</td>\n",
       "    </tr>\n",
       "    <tr>\n",
       "      <th>4</th>\n",
       "      <td>117384.68</td>\n",
       "      <td>1</td>\n",
       "      <td>8</td>\n",
       "      <td>12770.11290</td>\n",
       "    </tr>\n",
       "  </tbody>\n",
       "</table>\n",
       "</div>"
      ],
      "text/plain": [
       "       price  sold  model_years  km_per_year\n",
       "0   30941.02     1           22  35085.22134\n",
       "1   40557.96     1           24  12622.05362\n",
       "2   89627.50     0           16  11440.79806\n",
       "3   95276.14     0            7  43167.32682\n",
       "4  117384.68     1            8  12770.11290"
      ]
     },
     "execution_count": 5,
     "metadata": {},
     "output_type": "execute_result"
    }
   ],
   "source": [
    "classif = {\n",
    "    'no' : 0,\n",
    "    'yes' : 1\n",
    "}\n",
    "data[\"sold\"] = data[\"sold\"].map(classif)\n",
    "data.head()"
   ]
  },
  {
   "cell_type": "code",
   "execution_count": 6,
   "metadata": {},
   "outputs": [],
   "source": [
    "#Modelo LinearSVC\n",
    "x = data[['price', 'model_years', 'km_per_year']]\n",
    "y = data['sold']"
   ]
  },
  {
   "cell_type": "code",
   "execution_count": 7,
   "metadata": {},
   "outputs": [
    {
     "data": {
      "text/plain": [
       "'The accuracy is 71.00%'"
      ]
     },
     "execution_count": 7,
     "metadata": {},
     "output_type": "execute_result"
    }
   ],
   "source": [
    "from sklearn.svm import LinearSVC\n",
    "from sklearn.model_selection import train_test_split\n",
    "from sklearn.metrics import accuracy_score\n",
    "from sklearn.preprocessing import StandardScaler\n",
    "\n",
    "seed = 5\n",
    "raw_train_x, raw_test_x, train_y, test_y = train_test_split(x, y, random_state = seed, test_size = 0.25, stratify = y)\n",
    "\n",
    "scaler = StandardScaler()\n",
    "scaler.fit(raw_train_x)\n",
    "train_x = scaler.transform(raw_train_x)\n",
    "test_x = scaler.transform(raw_test_x)\n",
    "\n",
    "model = LinearSVC(random_state = seed)\n",
    "model.fit(train_x, train_y)\n",
    "predict_y = model.predict(test_x)\n",
    "accuracy = accuracy_score(test_y, predict_y)*100\n",
    "\"The accuracy is %.2f%%\" % accuracy\n"
   ]
  },
  {
   "cell_type": "code",
   "execution_count": 8,
   "metadata": {},
   "outputs": [
    {
     "data": {
      "text/plain": [
       "'The accuracy is 77.48%'"
      ]
     },
     "execution_count": 8,
     "metadata": {},
     "output_type": "execute_result"
    }
   ],
   "source": [
    "from sklearn.svm import SVC\n",
    "from sklearn.model_selection import train_test_split\n",
    "from sklearn.metrics import accuracy_score\n",
    "from sklearn.preprocessing import StandardScaler\n",
    "\n",
    "seed = 5\n",
    "raw_train_x, raw_test_x, train_y, test_y = train_test_split(x, y, random_state = seed, test_size = 0.25, stratify = y)\n",
    "\n",
    "scaler = StandardScaler()\n",
    "scaler.fit(raw_train_x)\n",
    "train_x = scaler.transform(raw_train_x)\n",
    "test_x = scaler.transform(raw_test_x)\n",
    "\n",
    "model = SVC(random_state = seed)\n",
    "model.fit(train_x, train_y)\n",
    "predict_y = model.predict(test_x)\n",
    "accuracy = accuracy_score(test_y, predict_y)*100\n",
    "\"The accuracy is %.2f%%\" % accuracy"
   ]
  },
  {
   "cell_type": "code",
   "execution_count": 9,
   "metadata": {},
   "outputs": [
    {
     "data": {
      "text/plain": [
       "'The accuracy is 50.96%'"
      ]
     },
     "execution_count": 9,
     "metadata": {},
     "output_type": "execute_result"
    }
   ],
   "source": [
    "from sklearn.dummy import DummyClassifier\n",
    "from sklearn.model_selection import train_test_split\n",
    "from sklearn.metrics import accuracy_score\n",
    "\n",
    "seed = 5\n",
    "raw_train_x, raw_test_x, train_y, test_y = train_test_split(x, y, random_state = seed, test_size = 0.25, stratify = y)\n",
    "\n",
    "scaler = StandardScaler()\n",
    "scaler.fit(raw_train_x)\n",
    "train_x = scaler.transform(raw_train_x)\n",
    "test_x = scaler.transform(raw_test_x)\n",
    "\n",
    "dummy = DummyClassifier(strategy=\"stratified\")\n",
    "dummy.fit(train_x, train_y)\n",
    "predict_y = dummy.predict(test_x)\n",
    "accuracy = accuracy_score(test_y, predict_y)*100\n",
    "\"The accuracy is %.2f%%\" % accuracy\n"
   ]
  },
  {
   "cell_type": "code",
   "execution_count": 10,
   "metadata": {},
   "outputs": [
    {
     "data": {
      "text/plain": [
       "'The accuracy is 79.28%'"
      ]
     },
     "execution_count": 10,
     "metadata": {},
     "output_type": "execute_result"
    }
   ],
   "source": [
    "from sklearn.tree import DecisionTreeClassifier\n",
    "from sklearn.model_selection import train_test_split\n",
    "from sklearn.metrics import accuracy_score\n",
    "\n",
    "seed = 5\n",
    "train_x, test_x, train_y, test_y = train_test_split(x, y, random_state = seed, test_size = 0.25, stratify = y)\n",
    "\n",
    "model = DecisionTreeClassifier(max_depth=3)\n",
    "model.fit(train_x, train_y)\n",
    "predict_y = model.predict(test_x)\n",
    "accuracy = accuracy_score(test_y, predict_y)*100\n",
    "\"The accuracy is %.2f%%\" % accuracy"
   ]
  },
  {
   "cell_type": "code",
   "execution_count": 11,
   "metadata": {},
   "outputs": [
    {
     "data": {
      "image/svg+xml": "<?xml version=\"1.0\" encoding=\"UTF-8\" standalone=\"no\"?>\n<!DOCTYPE svg PUBLIC \"-//W3C//DTD SVG 1.1//EN\"\n \"http://www.w3.org/Graphics/SVG/1.1/DTD/svg11.dtd\">\n<!-- Generated by graphviz version 7.0.4 (20221203.1631)\n -->\n<!-- Title: Tree Pages: 1 -->\n<svg width=\"880pt\" height=\"433pt\"\n viewBox=\"0.00 0.00 880.00 433.00\" xmlns=\"http://www.w3.org/2000/svg\" xmlns:xlink=\"http://www.w3.org/1999/xlink\">\n<g id=\"graph0\" class=\"graph\" transform=\"scale(1 1) rotate(0) translate(4 429)\">\n<title>Tree</title>\n<polygon fill=\"white\" stroke=\"none\" points=\"-4,4 -4,-429 876,-429 876,4 -4,4\"/>\n<!-- 0 -->\n<g id=\"node1\" class=\"node\">\n<title>0</title>\n<path fill=\"#c8e4f8\" stroke=\"black\" d=\"M365,-425C365,-425 243,-425 243,-425 237,-425 231,-419 231,-413 231,-413 231,-354 231,-354 231,-348 237,-342 243,-342 243,-342 365,-342 365,-342 371,-342 377,-348 377,-354 377,-354 377,-413 377,-413 377,-419 371,-425 365,-425\"/>\n<text text-anchor=\"middle\" x=\"304\" y=\"-409.8\" font-family=\"Helvetica,sans-Serif\" font-size=\"14.00\">price &lt;= 59999.074</text>\n<text text-anchor=\"middle\" x=\"304\" y=\"-394.8\" font-family=\"Helvetica,sans-Serif\" font-size=\"14.00\">gini = 0.487</text>\n<text text-anchor=\"middle\" x=\"304\" y=\"-379.8\" font-family=\"Helvetica,sans-Serif\" font-size=\"14.00\">samples = 7500</text>\n<text text-anchor=\"middle\" x=\"304\" y=\"-364.8\" font-family=\"Helvetica,sans-Serif\" font-size=\"14.00\">value = [3150, 4350]</text>\n<text text-anchor=\"middle\" x=\"304\" y=\"-349.8\" font-family=\"Helvetica,sans-Serif\" font-size=\"14.00\">class = yes</text>\n</g>\n<!-- 1 -->\n<g id=\"node2\" class=\"node\">\n<title>1</title>\n<path fill=\"#52aae8\" stroke=\"black\" d=\"M270,-306C270,-306 152,-306 152,-306 146,-306 140,-300 140,-294 140,-294 140,-235 140,-235 140,-229 146,-223 152,-223 152,-223 270,-223 270,-223 276,-223 282,-229 282,-235 282,-235 282,-294 282,-294 282,-300 276,-306 270,-306\"/>\n<text text-anchor=\"middle\" x=\"211\" y=\"-290.8\" font-family=\"Helvetica,sans-Serif\" font-size=\"14.00\">price &lt;= 40070.154</text>\n<text text-anchor=\"middle\" x=\"211\" y=\"-275.8\" font-family=\"Helvetica,sans-Serif\" font-size=\"14.00\">gini = 0.202</text>\n<text text-anchor=\"middle\" x=\"211\" y=\"-260.8\" font-family=\"Helvetica,sans-Serif\" font-size=\"14.00\">samples = 3248</text>\n<text text-anchor=\"middle\" x=\"211\" y=\"-245.8\" font-family=\"Helvetica,sans-Serif\" font-size=\"14.00\">value = [370, 2878]</text>\n<text text-anchor=\"middle\" x=\"211\" y=\"-230.8\" font-family=\"Helvetica,sans-Serif\" font-size=\"14.00\">class = yes</text>\n</g>\n<!-- 0&#45;&gt;1 -->\n<g id=\"edge1\" class=\"edge\">\n<title>0&#45;&gt;1</title>\n<path fill=\"none\" stroke=\"black\" d=\"M271.47,-341.58C264.64,-332.98 257.36,-323.82 250.3,-314.95\"/>\n<polygon fill=\"black\" stroke=\"black\" points=\"253.26,-313.04 244.29,-307.39 247.78,-317.39 253.26,-313.04\"/>\n<text text-anchor=\"middle\" x=\"240.51\" y=\"-327.34\" font-family=\"Helvetica,sans-Serif\" font-size=\"14.00\">True</text>\n</g>\n<!-- 6 -->\n<g id=\"node7\" class=\"node\">\n<title>6</title>\n<path fill=\"#f3c4a2\" stroke=\"black\" d=\"M534,-306C534,-306 364,-306 364,-306 358,-306 352,-300 352,-294 352,-294 352,-235 352,-235 352,-229 358,-223 364,-223 364,-223 534,-223 534,-223 540,-223 546,-229 546,-235 546,-235 546,-294 546,-294 546,-300 540,-306 534,-306\"/>\n<text text-anchor=\"middle\" x=\"449\" y=\"-290.8\" font-family=\"Helvetica,sans-Serif\" font-size=\"14.00\">km_per_year &lt;= 24112.741</text>\n<text text-anchor=\"middle\" x=\"449\" y=\"-275.8\" font-family=\"Helvetica,sans-Serif\" font-size=\"14.00\">gini = 0.453</text>\n<text text-anchor=\"middle\" x=\"449\" y=\"-260.8\" font-family=\"Helvetica,sans-Serif\" font-size=\"14.00\">samples = 4252</text>\n<text text-anchor=\"middle\" x=\"449\" y=\"-245.8\" font-family=\"Helvetica,sans-Serif\" font-size=\"14.00\">value = [2780, 1472]</text>\n<text text-anchor=\"middle\" x=\"449\" y=\"-230.8\" font-family=\"Helvetica,sans-Serif\" font-size=\"14.00\">class = no</text>\n</g>\n<!-- 0&#45;&gt;6 -->\n<g id=\"edge6\" class=\"edge\">\n<title>0&#45;&gt;6</title>\n<path fill=\"none\" stroke=\"black\" d=\"M354.71,-341.58C366.04,-332.44 378.14,-322.67 389.78,-313.29\"/>\n<polygon fill=\"black\" stroke=\"black\" points=\"391.8,-316.15 397.38,-307.15 387.4,-310.71 391.8,-316.15\"/>\n<text text-anchor=\"middle\" x=\"395.9\" y=\"-327.36\" font-family=\"Helvetica,sans-Serif\" font-size=\"14.00\">False</text>\n</g>\n<!-- 2 -->\n<g id=\"node3\" class=\"node\">\n<title>2</title>\n<path fill=\"#399de5\" stroke=\"black\" d=\"M110,-179.5C110,-179.5 12,-179.5 12,-179.5 6,-179.5 0,-173.5 0,-167.5 0,-167.5 0,-123.5 0,-123.5 0,-117.5 6,-111.5 12,-111.5 12,-111.5 110,-111.5 110,-111.5 116,-111.5 122,-117.5 122,-123.5 122,-123.5 122,-167.5 122,-167.5 122,-173.5 116,-179.5 110,-179.5\"/>\n<text text-anchor=\"middle\" x=\"61\" y=\"-164.3\" font-family=\"Helvetica,sans-Serif\" font-size=\"14.00\">gini = 0.0</text>\n<text text-anchor=\"middle\" x=\"61\" y=\"-149.3\" font-family=\"Helvetica,sans-Serif\" font-size=\"14.00\">samples = 1441</text>\n<text text-anchor=\"middle\" x=\"61\" y=\"-134.3\" font-family=\"Helvetica,sans-Serif\" font-size=\"14.00\">value = [0, 1441]</text>\n<text text-anchor=\"middle\" x=\"61\" y=\"-119.3\" font-family=\"Helvetica,sans-Serif\" font-size=\"14.00\">class = yes</text>\n</g>\n<!-- 1&#45;&gt;2 -->\n<g id=\"edge2\" class=\"edge\">\n<title>1&#45;&gt;2</title>\n<path fill=\"none\" stroke=\"black\" d=\"M158.54,-222.58C143.71,-211.01 127.58,-198.43 112.78,-186.89\"/>\n<polygon fill=\"black\" stroke=\"black\" points=\"115,-184.18 104.96,-180.79 110.7,-189.7 115,-184.18\"/>\n</g>\n<!-- 3 -->\n<g id=\"node4\" class=\"node\">\n<title>3</title>\n<path fill=\"#6cb6ec\" stroke=\"black\" d=\"M270,-187C270,-187 152,-187 152,-187 146,-187 140,-181 140,-175 140,-175 140,-116 140,-116 140,-110 146,-104 152,-104 152,-104 270,-104 270,-104 276,-104 282,-110 282,-116 282,-116 282,-175 282,-175 282,-181 276,-187 270,-187\"/>\n<text text-anchor=\"middle\" x=\"211\" y=\"-171.8\" font-family=\"Helvetica,sans-Serif\" font-size=\"14.00\">price &lt;= 40723.646</text>\n<text text-anchor=\"middle\" x=\"211\" y=\"-156.8\" font-family=\"Helvetica,sans-Serif\" font-size=\"14.00\">gini = 0.326</text>\n<text text-anchor=\"middle\" x=\"211\" y=\"-141.8\" font-family=\"Helvetica,sans-Serif\" font-size=\"14.00\">samples = 1807</text>\n<text text-anchor=\"middle\" x=\"211\" y=\"-126.8\" font-family=\"Helvetica,sans-Serif\" font-size=\"14.00\">value = [370, 1437]</text>\n<text text-anchor=\"middle\" x=\"211\" y=\"-111.8\" font-family=\"Helvetica,sans-Serif\" font-size=\"14.00\">class = yes</text>\n</g>\n<!-- 1&#45;&gt;3 -->\n<g id=\"edge3\" class=\"edge\">\n<title>1&#45;&gt;3</title>\n<path fill=\"none\" stroke=\"black\" d=\"M211,-222.58C211,-214.79 211,-206.53 211,-198.45\"/>\n<polygon fill=\"black\" stroke=\"black\" points=\"214.5,-198.71 211,-188.71 207.5,-198.71 214.5,-198.71\"/>\n</g>\n<!-- 4 -->\n<g id=\"node5\" class=\"node\">\n<title>4</title>\n<path fill=\"#9acdf2\" stroke=\"black\" d=\"M111.5,-68C111.5,-68 22.5,-68 22.5,-68 16.5,-68 10.5,-62 10.5,-56 10.5,-56 10.5,-12 10.5,-12 10.5,-6 16.5,0 22.5,0 22.5,0 111.5,0 111.5,0 117.5,0 123.5,-6 123.5,-12 123.5,-12 123.5,-56 123.5,-56 123.5,-62 117.5,-68 111.5,-68\"/>\n<text text-anchor=\"middle\" x=\"67\" y=\"-52.8\" font-family=\"Helvetica,sans-Serif\" font-size=\"14.00\">gini = 0.441</text>\n<text text-anchor=\"middle\" x=\"67\" y=\"-37.8\" font-family=\"Helvetica,sans-Serif\" font-size=\"14.00\">samples = 61</text>\n<text text-anchor=\"middle\" x=\"67\" y=\"-22.8\" font-family=\"Helvetica,sans-Serif\" font-size=\"14.00\">value = [20, 41]</text>\n<text text-anchor=\"middle\" x=\"67\" y=\"-7.8\" font-family=\"Helvetica,sans-Serif\" font-size=\"14.00\">class = yes</text>\n</g>\n<!-- 3&#45;&gt;4 -->\n<g id=\"edge4\" class=\"edge\">\n<title>3&#45;&gt;4</title>\n<path fill=\"none\" stroke=\"black\" d=\"M157.38,-103.73C145.15,-94.42 132.15,-84.54 119.95,-75.26\"/>\n<polygon fill=\"black\" stroke=\"black\" points=\"122.07,-72.48 112,-69.22 117.84,-78.05 122.07,-72.48\"/>\n</g>\n<!-- 5 -->\n<g id=\"node6\" class=\"node\">\n<title>5</title>\n<path fill=\"#6bb6ec\" stroke=\"black\" d=\"M268,-68C268,-68 154,-68 154,-68 148,-68 142,-62 142,-56 142,-56 142,-12 142,-12 142,-6 148,0 154,0 154,0 268,0 268,0 274,0 280,-6 280,-12 280,-12 280,-56 280,-56 280,-62 274,-68 268,-68\"/>\n<text text-anchor=\"middle\" x=\"211\" y=\"-52.8\" font-family=\"Helvetica,sans-Serif\" font-size=\"14.00\">gini = 0.321</text>\n<text text-anchor=\"middle\" x=\"211\" y=\"-37.8\" font-family=\"Helvetica,sans-Serif\" font-size=\"14.00\">samples = 1746</text>\n<text text-anchor=\"middle\" x=\"211\" y=\"-22.8\" font-family=\"Helvetica,sans-Serif\" font-size=\"14.00\">value = [350, 1396]</text>\n<text text-anchor=\"middle\" x=\"211\" y=\"-7.8\" font-family=\"Helvetica,sans-Serif\" font-size=\"14.00\">class = yes</text>\n</g>\n<!-- 3&#45;&gt;5 -->\n<g id=\"edge5\" class=\"edge\">\n<title>3&#45;&gt;5</title>\n<path fill=\"none\" stroke=\"black\" d=\"M211,-103.73C211,-95.88 211,-87.63 211,-79.67\"/>\n<polygon fill=\"black\" stroke=\"black\" points=\"214.5,-79.81 211,-69.81 207.5,-79.81 214.5,-79.81\"/>\n</g>\n<!-- 7 -->\n<g id=\"node8\" class=\"node\">\n<title>7</title>\n<path fill=\"#fcf0e7\" stroke=\"black\" d=\"M510,-187C510,-187 388,-187 388,-187 382,-187 376,-181 376,-175 376,-175 376,-116 376,-116 376,-110 382,-104 388,-104 388,-104 510,-104 510,-104 516,-104 522,-110 522,-116 522,-116 522,-175 522,-175 522,-181 516,-187 510,-187\"/>\n<text text-anchor=\"middle\" x=\"449\" y=\"-171.8\" font-family=\"Helvetica,sans-Serif\" font-size=\"14.00\">price &lt;= 99974.41</text>\n<text text-anchor=\"middle\" x=\"449\" y=\"-156.8\" font-family=\"Helvetica,sans-Serif\" font-size=\"14.00\">gini = 0.498</text>\n<text text-anchor=\"middle\" x=\"449\" y=\"-141.8\" font-family=\"Helvetica,sans-Serif\" font-size=\"14.00\">samples = 2649</text>\n<text text-anchor=\"middle\" x=\"449\" y=\"-126.8\" font-family=\"Helvetica,sans-Serif\" font-size=\"14.00\">value = [1409, 1240]</text>\n<text text-anchor=\"middle\" x=\"449\" y=\"-111.8\" font-family=\"Helvetica,sans-Serif\" font-size=\"14.00\">class = no</text>\n</g>\n<!-- 6&#45;&gt;7 -->\n<g id=\"edge7\" class=\"edge\">\n<title>6&#45;&gt;7</title>\n<path fill=\"none\" stroke=\"black\" d=\"M449,-222.58C449,-214.79 449,-206.53 449,-198.45\"/>\n<polygon fill=\"black\" stroke=\"black\" points=\"452.5,-198.71 449,-188.71 445.5,-198.71 452.5,-198.71\"/>\n</g>\n<!-- 10 -->\n<g id=\"node11\" class=\"node\">\n<title>10</title>\n<path fill=\"#e9965b\" stroke=\"black\" d=\"M730,-187C730,-187 604,-187 604,-187 598,-187 592,-181 592,-175 592,-175 592,-116 592,-116 592,-110 598,-104 604,-104 604,-104 730,-104 730,-104 736,-104 742,-110 742,-116 742,-116 742,-175 742,-175 742,-181 736,-187 730,-187\"/>\n<text text-anchor=\"middle\" x=\"667\" y=\"-171.8\" font-family=\"Helvetica,sans-Serif\" font-size=\"14.00\">price &lt;= 100076.957</text>\n<text text-anchor=\"middle\" x=\"667\" y=\"-156.8\" font-family=\"Helvetica,sans-Serif\" font-size=\"14.00\">gini = 0.248</text>\n<text text-anchor=\"middle\" x=\"667\" y=\"-141.8\" font-family=\"Helvetica,sans-Serif\" font-size=\"14.00\">samples = 1603</text>\n<text text-anchor=\"middle\" x=\"667\" y=\"-126.8\" font-family=\"Helvetica,sans-Serif\" font-size=\"14.00\">value = [1371, 232]</text>\n<text text-anchor=\"middle\" x=\"667\" y=\"-111.8\" font-family=\"Helvetica,sans-Serif\" font-size=\"14.00\">class = no</text>\n</g>\n<!-- 6&#45;&gt;10 -->\n<g id=\"edge10\" class=\"edge\">\n<title>6&#45;&gt;10</title>\n<path fill=\"none\" stroke=\"black\" d=\"M525.25,-222.58C543.46,-212.8 563.02,-202.31 581.61,-192.33\"/>\n<polygon fill=\"black\" stroke=\"black\" points=\"583.04,-195.53 590.2,-187.72 579.73,-189.36 583.04,-195.53\"/>\n</g>\n<!-- 8 -->\n<g id=\"node9\" class=\"node\">\n<title>8</title>\n<path fill=\"#f9e0cf\" stroke=\"black\" d=\"M424,-68C424,-68 310,-68 310,-68 304,-68 298,-62 298,-56 298,-56 298,-12 298,-12 298,-6 304,0 310,0 310,0 424,0 424,0 430,0 436,-6 436,-12 436,-12 436,-56 436,-56 436,-62 430,-68 424,-68\"/>\n<text text-anchor=\"middle\" x=\"367\" y=\"-52.8\" font-family=\"Helvetica,sans-Serif\" font-size=\"14.00\">gini = 0.49</text>\n<text text-anchor=\"middle\" x=\"367\" y=\"-37.8\" font-family=\"Helvetica,sans-Serif\" font-size=\"14.00\">samples = 2223</text>\n<text text-anchor=\"middle\" x=\"367\" y=\"-22.8\" font-family=\"Helvetica,sans-Serif\" font-size=\"14.00\">value = [1266, 957]</text>\n<text text-anchor=\"middle\" x=\"367\" y=\"-7.8\" font-family=\"Helvetica,sans-Serif\" font-size=\"14.00\">class = no</text>\n</g>\n<!-- 7&#45;&gt;8 -->\n<g id=\"edge8\" class=\"edge\">\n<title>7&#45;&gt;8</title>\n<path fill=\"none\" stroke=\"black\" d=\"M418.47,-103.73C412.05,-95.15 405.26,-86.09 398.79,-77.46\"/>\n<polygon fill=\"black\" stroke=\"black\" points=\"401.64,-75.42 392.84,-69.51 396.04,-79.61 401.64,-75.42\"/>\n</g>\n<!-- 9 -->\n<g id=\"node10\" class=\"node\">\n<title>9</title>\n<path fill=\"#9dcff2\" stroke=\"black\" d=\"M572,-68C572,-68 466,-68 466,-68 460,-68 454,-62 454,-56 454,-56 454,-12 454,-12 454,-6 460,0 466,0 466,0 572,0 572,0 578,0 584,-6 584,-12 584,-12 584,-56 584,-56 584,-62 578,-68 572,-68\"/>\n<text text-anchor=\"middle\" x=\"519\" y=\"-52.8\" font-family=\"Helvetica,sans-Serif\" font-size=\"14.00\">gini = 0.446</text>\n<text text-anchor=\"middle\" x=\"519\" y=\"-37.8\" font-family=\"Helvetica,sans-Serif\" font-size=\"14.00\">samples = 426</text>\n<text text-anchor=\"middle\" x=\"519\" y=\"-22.8\" font-family=\"Helvetica,sans-Serif\" font-size=\"14.00\">value = [143, 283]</text>\n<text text-anchor=\"middle\" x=\"519\" y=\"-7.8\" font-family=\"Helvetica,sans-Serif\" font-size=\"14.00\">class = yes</text>\n</g>\n<!-- 7&#45;&gt;9 -->\n<g id=\"edge9\" class=\"edge\">\n<title>7&#45;&gt;9</title>\n<path fill=\"none\" stroke=\"black\" d=\"M475.07,-103.73C480.49,-95.24 486.22,-86.28 491.68,-77.73\"/>\n<polygon fill=\"black\" stroke=\"black\" points=\"494.46,-79.89 496.9,-69.57 488.56,-76.12 494.46,-79.89\"/>\n</g>\n<!-- 11 -->\n<g id=\"node12\" class=\"node\">\n<title>11</title>\n<path fill=\"#e68742\" stroke=\"black\" d=\"M720,-68C720,-68 614,-68 614,-68 608,-68 602,-62 602,-56 602,-56 602,-12 602,-12 602,-6 608,0 614,0 614,0 720,0 720,0 726,0 732,-6 732,-12 732,-12 732,-56 732,-56 732,-62 726,-68 720,-68\"/>\n<text text-anchor=\"middle\" x=\"667\" y=\"-52.8\" font-family=\"Helvetica,sans-Serif\" font-size=\"14.00\">gini = 0.086</text>\n<text text-anchor=\"middle\" x=\"667\" y=\"-37.8\" font-family=\"Helvetica,sans-Serif\" font-size=\"14.00\">samples = 1356</text>\n<text text-anchor=\"middle\" x=\"667\" y=\"-22.8\" font-family=\"Helvetica,sans-Serif\" font-size=\"14.00\">value = [1295, 61]</text>\n<text text-anchor=\"middle\" x=\"667\" y=\"-7.8\" font-family=\"Helvetica,sans-Serif\" font-size=\"14.00\">class = no</text>\n</g>\n<!-- 10&#45;&gt;11 -->\n<g id=\"edge11\" class=\"edge\">\n<title>10&#45;&gt;11</title>\n<path fill=\"none\" stroke=\"black\" d=\"M667,-103.73C667,-95.88 667,-87.63 667,-79.67\"/>\n<polygon fill=\"black\" stroke=\"black\" points=\"670.5,-79.81 667,-69.81 663.5,-79.81 670.5,-79.81\"/>\n</g>\n<!-- 12 -->\n<g id=\"node13\" class=\"node\">\n<title>12</title>\n<path fill=\"#91c9f1\" stroke=\"black\" d=\"M860,-68C860,-68 762,-68 762,-68 756,-68 750,-62 750,-56 750,-56 750,-12 750,-12 750,-6 756,0 762,0 762,0 860,0 860,0 866,0 872,-6 872,-12 872,-12 872,-56 872,-56 872,-62 866,-68 860,-68\"/>\n<text text-anchor=\"middle\" x=\"811\" y=\"-52.8\" font-family=\"Helvetica,sans-Serif\" font-size=\"14.00\">gini = 0.426</text>\n<text text-anchor=\"middle\" x=\"811\" y=\"-37.8\" font-family=\"Helvetica,sans-Serif\" font-size=\"14.00\">samples = 247</text>\n<text text-anchor=\"middle\" x=\"811\" y=\"-22.8\" font-family=\"Helvetica,sans-Serif\" font-size=\"14.00\">value = [76, 171]</text>\n<text text-anchor=\"middle\" x=\"811\" y=\"-7.8\" font-family=\"Helvetica,sans-Serif\" font-size=\"14.00\">class = yes</text>\n</g>\n<!-- 10&#45;&gt;12 -->\n<g id=\"edge12\" class=\"edge\">\n<title>10&#45;&gt;12</title>\n<path fill=\"none\" stroke=\"black\" d=\"M720.62,-103.73C732.85,-94.42 745.85,-84.54 758.05,-75.26\"/>\n<polygon fill=\"black\" stroke=\"black\" points=\"760.16,-78.05 766,-69.22 755.93,-72.48 760.16,-78.05\"/>\n</g>\n</g>\n</svg>\n",
      "text/plain": [
       "<graphviz.sources.Source at 0x1c49f100a00>"
      ]
     },
     "execution_count": 11,
     "metadata": {},
     "output_type": "execute_result"
    }
   ],
   "source": [
    "from sklearn.tree import export_graphviz\n",
    "import graphviz\n",
    "\n",
    "features = x.columns\n",
    "dot_data = export_graphviz(model, feature_names = features, filled=True, rounded=True, class_names=[\"no\",\"yes\"])\n",
    "grafico = graphviz.Source(dot_data)\n",
    "grafico"
   ]
  }
 ],
 "metadata": {
  "kernelspec": {
   "display_name": "base",
   "language": "python",
   "name": "python3"
  },
  "language_info": {
   "codemirror_mode": {
    "name": "ipython",
    "version": 3
   },
   "file_extension": ".py",
   "mimetype": "text/x-python",
   "name": "python",
   "nbconvert_exporter": "python",
   "pygments_lexer": "ipython3",
   "version": "3.9.7 (default, Sep 16 2021, 16:59:28) [MSC v.1916 64 bit (AMD64)]"
  },
  "orig_nbformat": 4,
  "vscode": {
   "interpreter": {
    "hash": "f9cbe9a1ec98db480a7ee780d380ae5d45fd7329dde4007a88034adabe555712"
   }
  }
 },
 "nbformat": 4,
 "nbformat_minor": 2
}
